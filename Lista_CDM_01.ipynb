{
  "nbformat": 4,
  "nbformat_minor": 0,
  "metadata": {
    "colab": {
      "name": "Lista_CDM_01.ipynb",
      "provenance": [],
      "collapsed_sections": [],
      "include_colab_link": true
    },
    "kernelspec": {
      "name": "python3",
      "display_name": "Python 3"
    }
  },
  "cells": [
    {
      "cell_type": "markdown",
      "metadata": {
        "id": "view-in-github",
        "colab_type": "text"
      },
      "source": [
        "<a href=\"https://colab.research.google.com/github/reginaldotiete/Dados_CDM/blob/main/Lista_CDM_01.ipynb\" target=\"_parent\"><img src=\"https://colab.research.google.com/assets/colab-badge.svg\" alt=\"Open In Colab\"/></a>"
      ]
    },
    {
      "cell_type": "code",
      "metadata": {
        "id": "UQHbDN8oRiaD"
      },
      "source": [
        "#Lista Exercício 01 - Introdução ao python\n",
        "#Cheat Sheet - Python Basics  \n",
        "#Por: Yoshi\n",
        "#Data: Jan/2020\n",
        "\n",
        "#Principais bibliotecas\n",
        "import pandas as pd   # liguagem R\n",
        "import numpy as np    # linguagem Matlab\n",
        "from matplotlib import pyplot as plt   # gráficos\n",
        "\n",
        "#%%01) Operações matemáticas\n",
        "x=5  # significa que x recebe o valor 5 \n",
        "x+2  # soma\n",
        "x-2  # subtração\n",
        "x*2  # multiplicação\n",
        "x**2 # potência (elevado a potência 2)\n",
        "x%2  # resto da divisão\n",
        "x/2  # divisão\n",
        "\n",
        "#%%02) Formato dos dados\n",
        "\n",
        "y1='5'            # string   (menssagem ou texto)\n",
        "y2=5              # integer  (inteiro)  \n",
        "y3=5.0            # float(flutuante, ou decimal)\n",
        "y4=bool('True')   # boolean (logico) \n",
        "\n",
        "#%%03) Fazer uma list e indexar\n",
        "\n",
        "a = 'is'\n",
        "b = 'nice'\n",
        "my_list = ['my', 'list', a, b]\n",
        "\n",
        "my_list[0] # primeiro elemento do list\n",
        "my_list[3]  #quarto elemento do list\n",
        "my_list[0:3] # seleciona do primeiro elemento (0) ao terceiro elemento (2)\n",
        "my_list[1:4] # seleciona do segundo elemento (1) ao quarto elemento (3)\n",
        "my_list[-1] # último elemento do list\n",
        "\n",
        "\n",
        "#%%04) Manipular uma list\n",
        "\n",
        "my_list.index(a)\n",
        "my_list.count(a)\n",
        "my_list.append('!')\n",
        "my_list.remove('!')\n",
        "del(my_list[0:1])\n",
        "my_list.pop(0)\n",
        "my_list.insert(1,'yo')\n",
        "my_list.sort()\n",
        "\n",
        "# lista de duas dimensoes\n",
        "my_list2 = [[4,5,6,7], [3,4,5,6]]\n",
        "my_list2[1][:2]\n",
        "\n",
        "#%%05)  Fazer um array , manupular e operar\n",
        "\n",
        "my_list=[1,2,3,4]\n",
        "my_list2 = [[4,5,6,7], [3,4,5,6]]\n",
        "\n",
        "my_array=np.array(my_list) # array 1D - vetor\n",
        "my_array2=np.array(my_list2) # array 2D - matriz\n",
        "\n",
        "my_array[1]        \n",
        "my_array.shape  # dimensão do array\n",
        "np.insert(my_array, 1, 5) # inserir elementos no array\n",
        "np.delete(my_array,[1])  # deletar elementos no array\n",
        "np.mean(my_array)   # calcular a média dos elementos do array\n",
        "np.std(my_array)    # calcula o desvio padrão do array\n",
        "\n",
        "\n",
        "##% FIM"
      ],
      "execution_count": null,
      "outputs": []
    },
    {
      "cell_type": "code",
      "metadata": {
        "id": "121GOoCDo0el"
      },
      "source": [
        ""
      ],
      "execution_count": null,
      "outputs": []
    }
  ]
}